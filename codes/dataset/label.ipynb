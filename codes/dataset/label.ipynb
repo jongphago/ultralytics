{
 "cells": [
  {
   "cell_type": "markdown",
   "metadata": {},
   "source": [
    "# Import library"
   ]
  },
  {
   "cell_type": "code",
   "execution_count": null,
   "metadata": {},
   "outputs": [],
   "source": [
    "import json\n",
    "from box import Box\n",
    "import pandas as pd"
   ]
  },
  {
   "cell_type": "markdown",
   "metadata": {},
   "source": [
    "# Label class"
   ]
  },
  {
   "cell_type": "markdown",
   "metadata": {},
   "source": [
    "## `Label`"
   ]
  },
  {
   "cell_type": "code",
   "execution_count": null,
   "metadata": {},
   "outputs": [],
   "source": [
    "class Label:\n",
    "    def __init__(self, path):\n",
    "        self.path = path"
   ]
  },
  {
   "cell_type": "markdown",
   "metadata": {},
   "source": [
    "## `AIHub`"
   ]
  },
  {
   "cell_type": "code",
   "execution_count": null,
   "metadata": {},
   "outputs": [],
   "source": [
    "class AIHub(Label):\n",
    "    def __init__(\n",
    "        self,\n",
    "        scenario_id,\n",
    "        camera_id,\n",
    "        frame_id,\n",
    "        root=\"/home/jongphago/project/ultralytics/datasets/aihub/sample/라벨링데이터/\",\n",
    "    ):\n",
    "        path = (\n",
    "            root\n",
    "            + f\"시나리오{scenario_id:02d}/카메라{camera_id:02d}/\"\n",
    "            + f\"NIA_MTMDC_s{scenario_id:02d}_c{camera_id:02d}_\"\n",
    "            + \"pm_sunny_summer_\"\n",
    "            + f\"{frame_id:04d}.json\"\n",
    "        )\n",
    "        super().__init__(path)\n",
    "\n",
    "    pass"
   ]
  },
  {
   "cell_type": "markdown",
   "metadata": {},
   "source": [
    "# DataFrame"
   ]
  },
  {
   "cell_type": "markdown",
   "metadata": {},
   "source": [
    "## Label list"
   ]
  },
  {
   "cell_type": "code",
   "execution_count": null,
   "metadata": {},
   "outputs": [],
   "source": []
  },
  {
   "cell_type": "markdown",
   "metadata": {},
   "source": [
    "## Load label file(json)"
   ]
  },
  {
   "cell_type": "code",
   "execution_count": null,
   "metadata": {},
   "outputs": [],
   "source": [
    "from pathlib import Path\n",
    "\n",
    "# '/home/jongphago/project/ultralytics/datasets/aihub/sample/원천데이터/RGB/시나리오01/카메라11.avi'\n",
    "index = 7361\n",
    "image_path = Path(f\"out/test_{index + 1}.jpg\")\n",
    "label_path = Path(\n",
    "    f\"datasets/aihub/sample/converts/시나리오01/카메라11/NIA_MTMDC_s01_c11_pm_sunny_summer_{index}.txt\"\n",
    ")\n",
    "\n",
    "print(image_path, label_path, sep='\\n')"
   ]
  },
  {
   "cell_type": "code",
   "execution_count": null,
   "metadata": {},
   "outputs": [],
   "source": [
    "label_dict = {\"scenario_id\": 1, \"camera_id\": 7, \"frame_id\": 1000}\n",
    "\n",
    "aihub = AIHub(**label_dict)\n",
    "with open(aihub.path) as f:\n",
    "    lines = json.load(f)\n",
    "lines"
   ]
  },
  {
   "cell_type": "markdown",
   "metadata": {},
   "source": [
    "## Key: `frames`"
   ]
  },
  {
   "cell_type": "code",
   "execution_count": null,
   "metadata": {},
   "outputs": [],
   "source": [
    "def get_frames(lines: dict) -> pd.DataFrame:\n",
    "    # Convert to DataFrame [label, info]\n",
    "    label = pd.DataFrame(label_dict, index=[0])\n",
    "    info = pd.DataFrame(lines[\"info\"])\n",
    "\n",
    "    # Join [label, info] to `frames`\n",
    "    frames = label.join(info)\n",
    "\n",
    "    return frames\n",
    "\n",
    "\n",
    "frames = get_frames(lines)\n",
    "frames"
   ]
  },
  {
   "cell_type": "markdown",
   "metadata": {},
   "source": [
    "## Key: `objects`"
   ]
  },
  {
   "cell_type": "code",
   "execution_count": null,
   "metadata": {},
   "outputs": [],
   "source": [
    "def get_objects(lines: dict) -> pd.DataFrame | None:\n",
    "    def _flatten(x):\n",
    "        return pd.Series(x[0])\n",
    "\n",
    "    # Define objects dataframe\n",
    "    objects = pd.DataFrame(lines[\"objects\"])\n",
    "\n",
    "    # Exception\n",
    "    if objects.loc[0, \"label\"] == \"void\":\n",
    "        return None\n",
    "\n",
    "    # Flatten [position, attributes] columns\n",
    "    position: pd.DataFrame = objects.position.apply(_flatten)\n",
    "    attributes: pd.DataFrame = objects.attributes.apply(_flatten)\n",
    "\n",
    "    # Join objects + [position, attributes]\n",
    "    objects = objects.join(position)\n",
    "    objects = objects.join(attributes)\n",
    "\n",
    "    # Drop [position, attributes] from objects dataframe\n",
    "    objects = objects.drop([\"position\", \"attributes\"], axis=1)\n",
    "\n",
    "    return objects\n",
    "\n",
    "\n",
    "objects = get_objects(lines)\n",
    "objects"
   ]
  },
  {
   "cell_type": "code",
   "execution_count": null,
   "metadata": {},
   "outputs": [],
   "source": [
    "from pathlib import Path\n",
    "import yaml\n",
    "\n",
    "root = Path(\"/home/jongphago/project/ultralytics\")\n",
    "config_name = \"aihub-sample\"  # aihub-val\n",
    "cfg_path = root / f\"ultralytics/cfg/datasets/{config_name}.yaml\"\n",
    "with open(cfg_path, \"r\") as file:\n",
    "    cfg = Box(yaml.safe_load(file))"
   ]
  },
  {
   "cell_type": "code",
   "execution_count": null,
   "metadata": {},
   "outputs": [],
   "source": [
    "def get_value_dict(cfg: Box) -> dict[str:int]:\n",
    "    value_dict = {value: key for key, value in cfg.names.items()}\n",
    "    return value_dict\n",
    "\n",
    "\n",
    "value_dict = get_value_dict(cfg)"
   ]
  },
  {
   "cell_type": "code",
   "execution_count": null,
   "metadata": {},
   "outputs": [],
   "source": [
    "def xywh2ccwh(objects, shape=(1920, 1080), normalized=True):\n",
    "    width, height = shape\n",
    "    # top-left 수정\n",
    "    objects.width.where(objects.x > 0, objects.width + objects.x, inplace=True)\n",
    "    objects.height.where(objects.y > 0, objects.height + objects.y, inplace=True)\n",
    "    objects.x.where(objects.x > 0, 0, inplace=True)\n",
    "    objects.y.where(objects.y > 0, 0, inplace=True)\n",
    "    # bottom-right 수정\n",
    "    bottom_right_x = objects.x + objects.width\n",
    "    bottom_right_y = objects.y + objects.height\n",
    "    bottom_right_x.where(bottom_right_x < width, width, inplace=True)\n",
    "    bottom_right_y.where(bottom_right_y < height, height, inplace=True)\n",
    "    objects.width = bottom_right_x - objects.x\n",
    "    objects.height = bottom_right_y - objects.y\n",
    "    # center xy\n",
    "    x = objects.x + objects.width / 2\n",
    "    y = objects.y + objects.height / 2\n",
    "    x.name, y.name = \"x\", \"y\"\n",
    "    # width, height\n",
    "    width = objects.width\n",
    "    height = objects.height\n",
    "    # normalized\n",
    "    if normalized:\n",
    "        x = x / width\n",
    "        y = y / height\n",
    "        width = objects.width / width\n",
    "        height = objects.height / height\n",
    "    # concatenate\n",
    "    ccwh = pd.concat([x, y, width, height], axis=1)\n",
    "    return ccwh\n",
    "\n",
    "\n",
    "xywh2ccwh(objects, normalized=False)"
   ]
  },
  {
   "cell_type": "code",
   "execution_count": null,
   "metadata": {},
   "outputs": [],
   "source": [
    "import cv2\n",
    "import matplotlib.pyplot as plt\n",
    "\n",
    "im = cv2.imread(\n",
    "    f\"datasets/aihub/sample/frames/scenario{label_dict['scenario_id']:02d}/camera{label_dict['camera_id']:02d}/s{label_dict['scenario_id']:02d}_c{label_dict['camera_id']:02d}_f{label_dict['frame_id']}.png\"\n",
    ")\n",
    "im = cv2.cvtColor(im, cv2.COLOR_BGR2RGB)\n",
    "ccwh = xywh2ccwh(objects, normalized=False).astype(int)\n",
    "for obj in ccwh.itertuples():\n",
    "    tlxy = (obj.x - obj.width // 2, obj.y - obj.height // 2)\n",
    "    brxy = (obj.x + obj.width // 2, obj.y + obj.height // 2)\n",
    "    center = (obj.x, obj.y)\n",
    "    cv2.line(im, tlxy, brxy, (255, 0, 255), 2)  # rect\n",
    "    cv2.rectangle(im, tlxy, brxy, (255, 0, 255), 3)  # rect\n",
    "    cv2.circle(im, tlxy, 10, (255, 255, 0), 2)  # top-left xy\n",
    "    cv2.circle(im, brxy, 10, (0, 255, 255), 2)  # bottom-right xy\n",
    "    cv2.circle(im, center, 10, (255, 0, 0), -1)  # center xy\n",
    "plt.imshow(im)"
   ]
  },
  {
   "cell_type": "code",
   "execution_count": null,
   "metadata": {},
   "outputs": [],
   "source": [
    "shape = (1920, 1080)\n",
    "width, height = shape\n",
    "\n",
    "\n",
    "def xywh2ccwh(objects, shape=(1920, 1080)):\n",
    "    width, height = shape\n",
    "    norm_width = (\n",
    "        objects.width.where((objects.x + objects.width) <= width, width - objects.x)\n",
    "    )  # / width\n",
    "    norm_height = (\n",
    "        objects.height.where((objects.y + objects.height) <= height, height - objects.y)\n",
    "    )  # / height\n",
    "    norm_center_x = (objects.x + objects.width / 2)  # / width\n",
    "    norm_center_y = (objects.y + objects.height / 2)  # / height\n",
    "    norm_center_x.name, norm_center_y.name = \"x\", \"y\"\n",
    "    ccwh = pd.concat([norm_center_x, norm_center_y, norm_width, norm_height], axis=1)\n",
    "    return ccwh\n",
    "\n",
    "\n",
    "xywh2ccwh(objects)"
   ]
  },
  {
   "cell_type": "code",
   "execution_count": null,
   "metadata": {},
   "outputs": [],
   "source": [
    "def ccwh2xyxy(objects, shape=(1920, 1080)):\n",
    "    width, height = shape\n",
    "    tlx = (objects.x - objects.width / 2) / width  # cx - 2/w\n",
    "    tlx.where(tlx > 0, 0, inplace=True)\n",
    "    tly = (objects.y - objects.height / 2) / height  # cy - 2/h\n",
    "    tly.where(tly > 0, 0, inplace=True)\n",
    "    brx = (objects.x + objects.width / 2) / width\n",
    "    widths = objects.width.where(brx <= 1, brx - 1) / width\n",
    "    bry = (objects.y + objects.height / 2) / height\n",
    "    heights = objects.height.where(bry <= 1, bry - 1) / height\n",
    "    tlx.name, tly.name = \"tlx\", \"tly\"\n",
    "    return pd.concat([tlx, tly, widths, heights], axis=1)"
   ]
  },
  {
   "cell_type": "code",
   "execution_count": null,
   "metadata": {},
   "outputs": [],
   "source": [
    "ccwh2xyxy(objects)"
   ]
  },
  {
   "cell_type": "code",
   "execution_count": null,
   "metadata": {},
   "outputs": [],
   "source": [
    "def get_reorder(\n",
    "    objects: pd.DataFrame,\n",
    "    frames: pd.DataFrame,\n",
    "    value_dict: dict[str:int],\n",
    ") -> pd.DataFrame | None:\n",
    "    if objects is None:\n",
    "        return None\n",
    "    class_col = (\n",
    "        objects[[\"label\"]]\n",
    "        .apply(lambda x: value_dict[x[0]], axis=1)\n",
    "        .to_frame(name=\"class\")\n",
    "    )\n",
    "    norm_hor = objects[[\"x\", \"width\"]] / frames.loc[0, \"video_width\"]\n",
    "    norm_ver = objects[[\"y\", \"height\"]] / frames.loc[0, \"video_heigth\"]\n",
    "    joined = class_col.join([norm_hor, norm_ver])\n",
    "    reorder = joined[[\"class\", \"x\", \"y\", \"width\", \"height\"]]\n",
    "    return reorder\n",
    "\n",
    "\n",
    "reorder = get_reorder(objects, frames, value_dict)\n",
    "reorder"
   ]
  },
  {
   "cell_type": "markdown",
   "metadata": {},
   "source": [
    "```python\n",
    "0,0.187161,0.494629,0.100182,0.492453\n",
    "0,0.306682,0.486990,0.100817,0.55625\n",
    "0,0.228916,0.368518,0.091270,0.424166\n",
    "0,0.008020,0.709953,0.099026,0.737425\n",
    "0,0.943958,0.517129,0.088682,0.421657\n",
    "```"
   ]
  },
  {
   "cell_type": "markdown",
   "metadata": {},
   "source": [
    "# 2024/03/29"
   ]
  },
  {
   "cell_type": "code",
   "execution_count": null,
   "metadata": {},
   "outputs": [],
   "source": [
    "import os\n",
    "import yaml\n",
    "import pandas as pd\n",
    "from box import Box\n",
    "from codes.config.pattern import (\n",
    "    find,\n",
    "    scenario_id_pattern,\n",
    "    camera_id_pattern,\n",
    "    frame_id_pattern,\n",
    ")"
   ]
  },
  {
   "cell_type": "code",
   "execution_count": null,
   "metadata": {},
   "outputs": [],
   "source": [
    "videos_df = pd.read_csv(\"datasets/aihub/sample/videos.csv\")\n",
    "for row in videos_df.itertuples():\n",
    "    break\n",
    "video_dir = row.video_dir"
   ]
  },
  {
   "cell_type": "code",
   "execution_count": null,
   "metadata": {},
   "outputs": [],
   "source": [
    "yaml_path = \"ultralytics/cfg/datasets/aihub-sample.yaml\"\n",
    "with open(yaml_path) as f:\n",
    "    cfg: Box = Box(yaml.safe_load(f))  # dot repr."
   ]
  },
  {
   "cell_type": "code",
   "execution_count": null,
   "metadata": {},
   "outputs": [],
   "source": [
    "scenario_id = find(scenario_id_pattern, video_dir)\n",
    "camera_id = find(camera_id_pattern, video_dir)\n",
    "frame_id = find(frame_id_pattern, aihub.path)"
   ]
  },
  {
   "cell_type": "code",
   "execution_count": null,
   "metadata": {},
   "outputs": [],
   "source": [
    "cfg.path = Path(cfg.path)\n",
    "cfg.lbl = cfg.path / cfg.lbl  # ex. aihub/sample/라벨링데이터\n",
    "cfg.cvt = cfg.path / cfg.cvt  # ex. aihub/sample/converts\n",
    "sub_dir = f\"scenario{scenario_id}/camera{camera_id}\"  # row.video_dir\n",
    "cfg.converts_dir = cfg.cvt / sub_dir\n",
    "cfg.labels = cfg.path / cfg.labels  # ex. aihub/sample/labels\n",
    "cfg.labels_dir = cfg.labels / row.task"
   ]
  },
  {
   "cell_type": "code",
   "execution_count": null,
   "metadata": {},
   "outputs": [],
   "source": [
    "raw = Path(  # json\n",
    "    \"/home/jongphago/project/ultralytics/datasets/\"\n",
    "    + \"aihub/2.Validation/라벨링데이터/\"\n",
    "    + \"시나리오42/카메라01/\"\n",
    "    + \"NIA_MTMDC_s42_c01_am_sunny_fall_0001.json\"\n",
    ")\n",
    "src = (  # txt\n",
    "    \"/home/jongphago/project/ultralytics/datasets/\"\n",
    "    + \"aihub/2.Validation/converts/\"\n",
    "    + \"시나리오01/카메라07\"\n",
    "    + \"NIA_MTMDC_s42_c01_am_sunny_fall_0001.txt\"\n",
    ")\n",
    "dst = (  # link\n",
    "    \"/home/jongphago/project/ultralytics/datasets\"\n",
    "    + \"/aihub/2.Validation/labels/val\"\n",
    "    + \"s42_c01_f0001.txt\"\n",
    ")"
   ]
  },
  {
   "cell_type": "code",
   "execution_count": null,
   "metadata": {},
   "outputs": [],
   "source": [
    "def raw2cvt(raw, cfg):\n",
    "    cvt_name = f\"{raw.stem}.txt\"\n",
    "    cvt = cfg.path / cfg.cvt / row.video_dir / cvt_name\n",
    "    return cvt\n",
    "\n",
    "cvt = raw2cvt(raw, cfg)"
   ]
  },
  {
   "cell_type": "code",
   "execution_count": null,
   "metadata": {},
   "outputs": [],
   "source": [
    "def cvt2dst(cvt, cfg):\n",
    "    scenario_id_pattern = r\"(?<=시나리오)\\d{2}\"\n",
    "    camera_id_pattern = r\"(?<=카메라)\\d{2}\"\n",
    "    frame_id_pattern = r\"_(\\d{4}).\"\n",
    "\n",
    "    scenario_id = find(scenario_id_pattern, str(cvt))\n",
    "    camera_id = find(camera_id_pattern, str(cvt))\n",
    "    frame_id = find(frame_id_pattern, str(cvt))\n",
    "    dst_name = f\"s{scenario_id}_c{camera_id}_f{frame_id}.txt\"\n",
    "\n",
    "    dst = Path(cfg.path) / cfg.val / dst_name\n",
    "    return dst\n",
    "\n",
    "dst = cvt2dst(cvt, cfg)"
   ]
  },
  {
   "cell_type": "markdown",
   "metadata": {},
   "source": [
    "# Write txt to convert"
   ]
  },
  {
   "cell_type": "code",
   "execution_count": null,
   "metadata": {},
   "outputs": [],
   "source": [
    "from pathlib import Path\n",
    "import yaml\n",
    "import pandas as pd\n",
    "from box import Box"
   ]
  },
  {
   "cell_type": "code",
   "execution_count": null,
   "metadata": {},
   "outputs": [],
   "source": [
    "os.makedirs(cvt.parent, exist_ok=True)"
   ]
  },
  {
   "cell_type": "code",
   "execution_count": null,
   "metadata": {},
   "outputs": [],
   "source": [
    "def convert(reorder, cvt_path) -> None:\n",
    "    if reorder is not None:\n",
    "        reorder.to_csv(cvt_path, header=False, index=False)\n",
    "    else:\n",
    "        with open(cvt_path, \"w\") as f:\n",
    "            f.write(\"\")\n",
    "    return None\n",
    "\n",
    "\n",
    "convert(reorder, cvt)"
   ]
  },
  {
   "cell_type": "code",
   "execution_count": null,
   "metadata": {},
   "outputs": [],
   "source": [
    "# config file (.yaml)\n",
    "def load_config_from_yaml(fp: str | Path) -> Box:\n",
    "    with open(fp) as f:\n",
    "        cfg = Box(yaml.safe_load(f))\n",
    "    return cfg\n",
    "\n",
    "\n",
    "cfg_yaml_path = \"ultralytics/cfg/datasets/aihub-sample.yaml\"\n",
    "cfg: Box = load_config_from_yaml(cfg_yaml_path)"
   ]
  },
  {
   "cell_type": "code",
   "execution_count": null,
   "metadata": {},
   "outputs": [],
   "source": [
    "# sub directory list (.csv)\n",
    "def get_videos(cfg: Box) -> map:\n",
    "    \"\"\"AI is creating summary for get_videos\n",
    "\n",
    "    Args:\n",
    "        cfg (Box): directory information\n",
    "\n",
    "    Returns:\n",
    "        map: iterable pandas dataframe\n",
    "\n",
    "    Examples:\n",
    "    cfg = load_config_from_yaml(cfg_yaml_path)\n",
    "    rows = get_videos(cfg)\n",
    "    for row in rows:\n",
    "        row.task, row.video_dir\n",
    "    \"\"\"\n",
    "    videos_df: pd.DataFrame = pd.read_csv(Path(cfg.path) / cfg.csv)\n",
    "    rows: map = videos_df.itertuples()\n",
    "    return rows\n",
    "\n",
    "\n",
    "rows = get_videos(cfg)\n",
    "for row in rows:\n",
    "    print(row.video_dir)"
   ]
  },
  {
   "cell_type": "code",
   "execution_count": null,
   "metadata": {},
   "outputs": [],
   "source": [
    "# traverse directory (.json)\n",
    "def get_json_labels(cfg, sub_dir) -> list[Path]:\n",
    "    raw_label_path = Path(cfg.path) / cfg.lbl / sub_dir\n",
    "    label_paths = []\n",
    "    for dirs, _, file_names in os.walk(raw_label_path):\n",
    "        parent = Path(dirs)\n",
    "        for file_name in sorted(file_names):\n",
    "            label_paths.append(parent / file_name)\n",
    "    return label_paths\n",
    "\n",
    "\n",
    "json_labels = get_json_labels(cfg, row.video_dir)\n",
    "for json_label in json_labels:\n",
    "    assert json_label.exists()"
   ]
  },
  {
   "cell_type": "code",
   "execution_count": null,
   "metadata": {},
   "outputs": [],
   "source": [
    "rows = get_videos(cfg)\n",
    "for row in rows:\n",
    "    json_labels = get_json_labels(cfg, row.video_dir)"
   ]
  },
  {
   "cell_type": "code",
   "execution_count": null,
   "metadata": {},
   "outputs": [],
   "source": [
    "json_label = json_labels[2000]\n",
    "with open(json_label) as f:\n",
    "    lines = json.load(f)"
   ]
  },
  {
   "cell_type": "code",
   "execution_count": null,
   "metadata": {},
   "outputs": [],
   "source": [
    "frames = get_frames(lines)\n",
    "objects = get_objects(lines)\n",
    "reorder = get_reorder(objects, frames, value_dict)"
   ]
  },
  {
   "cell_type": "markdown",
   "metadata": {},
   "source": [
    "# Create symbolic link file"
   ]
  },
  {
   "cell_type": "code",
   "execution_count": null,
   "metadata": {},
   "outputs": [],
   "source": [
    "label_dir = Path(cfg.path) / cfg.labels / row.task\n",
    "os.makedirs(label_dir, exist_ok=True)"
   ]
  },
  {
   "cell_type": "code",
   "execution_count": null,
   "metadata": {},
   "outputs": [],
   "source": [
    "srcs = []\n",
    "for directory, _, file_names in os.walk(cvt.parent):\n",
    "    root = Path(directory)\n",
    "    for file_name in file_names:\n",
    "        srcs.append(root / file_name)\n",
    "srcs"
   ]
  },
  {
   "cell_type": "code",
   "execution_count": null,
   "metadata": {},
   "outputs": [],
   "source": [
    "for src in srcs:\n",
    "    dst = cvt2dst(src, cfg)\n",
    "    print(dst)\n",
    "    if not os.path.exists(dst):\n",
    "        os.symlink(src, dst)"
   ]
  }
 ],
 "metadata": {
  "kernelspec": {
   "display_name": "base",
   "language": "python",
   "name": "python3"
  },
  "language_info": {
   "codemirror_mode": {
    "name": "ipython",
    "version": 3
   },
   "file_extension": ".py",
   "mimetype": "text/x-python",
   "name": "python",
   "nbconvert_exporter": "python",
   "pygments_lexer": "ipython3",
   "version": "3.10.13"
  }
 },
 "nbformat": 4,
 "nbformat_minor": 2
}
