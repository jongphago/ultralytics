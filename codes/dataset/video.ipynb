{
 "cells": [
  {
   "cell_type": "markdown",
   "metadata": {},
   "source": [
    "# 기능\n",
    "1. 비디오 파일에서 프레임을 추출합니다.\n",
    "    - ffmepg 명령 사용"
   ]
  },
  {
   "cell_type": "code",
   "execution_count": 1,
   "metadata": {},
   "outputs": [],
   "source": [
    "import re\n",
    "import os\n",
    "import subprocess\n",
    "from pathlib import Path\n",
    "\n",
    "import cv2\n",
    "import pandas as pd\n",
    "import matplotlib.pyplot as plt"
   ]
  },
  {
   "cell_type": "code",
   "execution_count": 2,
   "metadata": {},
   "outputs": [],
   "source": [
    "# root directory\n",
    "dataset_dir = Path(\"/home/jongphago/project/ultralytics/datasets\")\n",
    "data_csv_dir = \"aihub/sample/videos.csv\"\n",
    "sub_dir = \"aihub/sample/원천데이터/RGB\"\n",
    "out_dir = \"aihub/sample/images\"\n",
    "scenario_id_pattern = r\"(?<=시나리오)\\d{2}\"\n",
    "camera_id_pattern = r\"(?<=카메라)\\d{2}\"\n",
    "fps = 1"
   ]
  },
  {
   "cell_type": "code",
   "execution_count": 3,
   "metadata": {},
   "outputs": [],
   "source": [
    "# Data DataFrame (video name table)\n",
    "data_df = pd.read_csv(dataset_dir / data_csv_dir)"
   ]
  },
  {
   "cell_type": "code",
   "execution_count": 4,
   "metadata": {},
   "outputs": [],
   "source": [
    "# __init__\n",
    "# IDs: video, camera, scenario & task\n",
    "for rows in data_df.itertuples():\n",
    "    # data frame single row data\n",
    "    task = rows.task\n",
    "    video_dir = rows.video_dir + \".avi\"\n",
    "    scenario_id = re.findall(scenario_id_pattern, video_dir)[0]\n",
    "    camera_id = re.findall(camera_id_pattern, video_dir)[0]\n",
    "\n",
    "    # frame directory\n",
    "    frame_dir = f\"aihub/sample/frames/scenario{scenario_id}/camera{camera_id}\"\n",
    "    os.makedirs(dataset_dir / frame_dir, exist_ok=True)\n",
    "\n",
    "    # video_path\n",
    "    video_path = str(dataset_dir / sub_dir / video_dir)\n",
    "    assert os.path.exists(video_path)"
   ]
  },
  {
   "cell_type": "code",
   "execution_count": 5,
   "metadata": {},
   "outputs": [],
   "source": [
    "# update FPS\n",
    "if fps is None:\n",
    "    cap = cv2.VideoCapture(video_path)\n",
    "    fps = cap.get(cv2.CAP_PROP_FPS)"
   ]
  },
  {
   "cell_type": "code",
   "execution_count": null,
   "metadata": {},
   "outputs": [],
   "source": [
    "cap = cv2.VideoCapture(video_path)\n",
    "while True:\n",
    "    ret, frame = cap.read()\n",
    "    if not ret:\n",
    "        break\n",
    "    "
   ]
  },
  {
   "cell_type": "code",
   "execution_count": null,
   "metadata": {},
   "outputs": [],
   "source": [
    "plt.imshow(frame)"
   ]
  },
  {
   "cell_type": "code",
   "execution_count": null,
   "metadata": {},
   "outputs": [],
   "source": [
    "cv2.imwrite(\"a.png\", frame)"
   ]
  },
  {
   "cell_type": "code",
   "execution_count": null,
   "metadata": {},
   "outputs": [],
   "source": [
    "# run: ffmpeg 명령어 실행\n",
    "subprocess.run(\n",
    "    [\n",
    "        \"ffmpeg\",\n",
    "        *(\"-i\", video_path),\n",
    "        *(\"-r\", str(fps)),\n",
    "        f\"{dataset_dir / frame_dir}/s{scenario_id}_c{camera_id}_f%04d.png\",\n",
    "    ]\n",
    ")\n",
    "\n",
    "print(\"프로세스가 성공적으로 종료되었습니다.\")"
   ]
  },
  {
   "cell_type": "code",
   "execution_count": null,
   "metadata": {},
   "outputs": [],
   "source": [
    "# link: Make symbolic link\n",
    "for directory, _, file_names in os.walk(dataset_dir / frame_dir):\n",
    "    root = Path(directory)\n",
    "    srcs = []\n",
    "    for file_name in file_names:\n",
    "        srcs.append(root / file_name)\n",
    "        \n",
    "images_dir = dataset_dir / out_dir / task\n",
    "os.makedirs(images_dir, exist_ok=True)\n",
    "for src in srcs:\n",
    "    dst = images_dir / src.parts[-1]\n",
    "    os.symlink(src, dst)"
   ]
  },
  {
   "cell_type": "markdown",
   "metadata": {},
   "source": [
    "# Video class"
   ]
  },
  {
   "cell_type": "code",
   "execution_count": null,
   "metadata": {},
   "outputs": [],
   "source": [
    "import os\n",
    "import subprocess\n",
    "from pathlib import Path\n",
    "\n",
    "import yaml\n",
    "import pandas as pd\n",
    "from box import Box\n",
    "\n",
    "from codes.config.pattern import find\n",
    "from codes.config.pattern import camera_id_pattern, scenario_id_pattern"
   ]
  },
  {
   "cell_type": "code",
   "execution_count": null,
   "metadata": {},
   "outputs": [],
   "source": [
    "class Video:\n",
    "    def __init__(self, video_dir, task):\n",
    "        self.video_dir = video_dir\n",
    "        self.task = task\n",
    "\n",
    "\n",
    "class AIHub(Video):\n",
    "\n",
    "    def __init__(self, video_dir, task, cfg):\n",
    "        super().__init__(video_dir, task)\n",
    "        self.camera_id: str = find(camera_id_pattern, self.video_dir)  # 01\n",
    "        self.scenario_id: str = find(scenario_id_pattern, self.video_dir)  # 11\n",
    "        self.fps: int = cfg.fps  # 30\n",
    "        self.dirs(cfg)\n",
    "\n",
    "    def dirs(self, cfg):\n",
    "        self.path = Path(cfg.path)\n",
    "        self.raw = self.path / cfg.raw  # ex. aihub/sample/원천데이터/RGB\n",
    "        self.video_dir = (\n",
    "            self.path / self.raw / self.video_dir\n",
    "        )  # ex. 시나리오01/카메라07.avi\n",
    "        self.out = self.path / cfg.out  # ex. aihub/sample/frames\n",
    "        sub_dir = f\"scenario{self.scenario_id}/camera{self.camera_id}\"\n",
    "        self.frames_dir = self.out / sub_dir\n",
    "        self.img = self.path / cfg.img  # ex. aihub/sample/images\n",
    "        self.images_dir = self.img / self.task\n",
    "\n",
    "    def extract(self):\n",
    "        os.makedirs(self.frames_dir, exist_ok=True)\n",
    "        subprocess.run(\n",
    "            [\n",
    "                \"ffmpeg\",\n",
    "                *(\"-i\", self.video_dir),\n",
    "                *(\"-r\", str(self.fps)),\n",
    "                f\"{self.frames_dir}/s{self.scenario_id}_c{self.camera_id}_f%04d.png\",\n",
    "            ]\n",
    "        )\n",
    "\n",
    "    def link(self):\n",
    "        # link: Make symbolic link\n",
    "        os.makedirs(self.images_dir, exist_ok=True)\n",
    "        srcs = []\n",
    "        for directory, _, file_names in os.walk(self.frames_dir):\n",
    "            root = Path(directory)\n",
    "            for file_name in file_names:\n",
    "                srcs.append(root / file_name)\n",
    "        for src in srcs:\n",
    "            dst = self.images_dir / src.parts[-1]\n",
    "            if not os.path.exists(dst):\n",
    "                os.symlink(src, dst)"
   ]
  },
  {
   "cell_type": "code",
   "execution_count": null,
   "metadata": {},
   "outputs": [],
   "source": [
    "root = Path(\"/home/jongphago/project/ultralytics\")\n",
    "config_name = \"aihub-sample\"\n",
    "cfg_path = root / f\"ultralytics/cfg/datasets/{config_name}.yaml\"\n",
    "with open(cfg_path, \"r\") as file:\n",
    "    cfg = Box(yaml.safe_load(file))"
   ]
  },
  {
   "cell_type": "code",
   "execution_count": null,
   "metadata": {},
   "outputs": [],
   "source": [
    "# root directory\n",
    "dataset_dir = Path(cfg.path)\n",
    "data_df = pd.read_csv(dataset_dir / cfg.csv)\n",
    "for rows in data_df.itertuples():\n",
    "    aihub = AIHub(rows.video_dir, rows.task, cfg)\n",
    "    aihub.extract()\n",
    "    aihub.link()"
   ]
  }
 ],
 "metadata": {
  "kernelspec": {
   "display_name": "base",
   "language": "python",
   "name": "python3"
  },
  "language_info": {
   "codemirror_mode": {
    "name": "ipython",
    "version": 3
   },
   "file_extension": ".py",
   "mimetype": "text/x-python",
   "name": "python",
   "nbconvert_exporter": "python",
   "pygments_lexer": "ipython3",
   "version": "3.10.13"
  }
 },
 "nbformat": 4,
 "nbformat_minor": 2
}
