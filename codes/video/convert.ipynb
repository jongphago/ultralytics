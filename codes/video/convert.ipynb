{
 "cells": [
  {
   "cell_type": "code",
   "execution_count": null,
   "metadata": {},
   "outputs": [],
   "source": [
    "import os\n",
    "import subprocess\n",
    "from tqdm import tqdm\n",
    "from pathlib import Path\n",
    "import cv2\n",
    "import yaml\n",
    "import pandas as pd\n",
    "from box import Box\n",
    "from codes.config.pattern import find\n",
    "from codes.config.pattern import scenario_id_pattern, camera_id_pattern\n",
    "from codes.config.pattern import s_id_pattern, c_id_pattern, f_id_pattern"
   ]
  },
  {
   "cell_type": "code",
   "execution_count": null,
   "metadata": {},
   "outputs": [],
   "source": [
    "print(os.getcwd())  # /home/jupyter/ultralytics"
   ]
  },
  {
   "cell_type": "markdown",
   "metadata": {},
   "source": [
    "# Config"
   ]
  },
  {
   "cell_type": "markdown",
   "metadata": {},
   "source": [
    "## config.yaml"
   ]
  },
  {
   "cell_type": "code",
   "execution_count": null,
   "metadata": {},
   "outputs": [],
   "source": [
    "root = Path(\"/home/jongphago/project/ultralytics\")\n",
    "config_name = \"aihub-val\"\n",
    "cfg_path = root / f\"ultralytics/cfg/datasets/{config_name}.yaml\"\n",
    "with open(cfg_path, \"r\") as file:\n",
    "    cfg = Box(yaml.safe_load(file))\n",
    "    cfg.path = Path(cfg.path)"
   ]
  },
  {
   "cell_type": "markdown",
   "metadata": {},
   "source": [
    "## video.csv"
   ]
  },
  {
   "cell_type": "code",
   "execution_count": null,
   "metadata": {},
   "outputs": [],
   "source": [
    "cfg_out_path = cfg.path / cfg.out\n",
    "videos_df = pd.read_csv(cfg_out_path.parent / \"videos.csv\")"
   ]
  },
  {
   "cell_type": "markdown",
   "metadata": {},
   "source": [
    "# Convert"
   ]
  },
  {
   "cell_type": "code",
   "execution_count": null,
   "metadata": {},
   "outputs": [],
   "source": [
    "def avi2mp4(video_path) -> Path:\n",
    "    # Capture\n",
    "    cap = cv2.VideoCapture(video_path.as_posix())\n",
    "\n",
    "    # Properties\n",
    "    width = int(cap.get(cv2.CAP_PROP_FRAME_WIDTH))\n",
    "    height = int(cap.get(cv2.CAP_PROP_FRAME_HEIGHT))\n",
    "    fps = cap.get(cv2.CAP_PROP_FPS)\n",
    "    assert fps == 23\n",
    "    fourcc = cv2.VideoWriter_fourcc(*\"mp4v\")\n",
    "    length = int(cap.get(cv2.CAP_PROP_FRAME_COUNT))\n",
    "\n",
    "    # Writer\n",
    "    out_video_path = video_path.with_suffix(\".mp4\")\n",
    "    writer = cv2.VideoWriter(out_video_path.as_posix(), fourcc, fps, (width, height))\n",
    "\n",
    "    # Convert\n",
    "    for _ in tqdm(range(length)):\n",
    "        _, frame = cap.read()\n",
    "        writer.write(frame)\n",
    "    writer.release()\n",
    "    cap.release()\n",
    "\n",
    "    return out_video_path"
   ]
  },
  {
   "cell_type": "markdown",
   "metadata": {},
   "source": [
    "# Extract"
   ]
  },
  {
   "cell_type": "markdown",
   "metadata": {},
   "source": [
    "## Extract"
   ]
  },
  {
   "cell_type": "code",
   "execution_count": null,
   "metadata": {},
   "outputs": [],
   "source": [
    "def extract_frames(video_file, output_folder):\n",
    "    def get_ids(in_video_path):\n",
    "        scenario_id = find(scenario_id_pattern, in_video_path)\n",
    "        camera_id = find(camera_id_pattern, in_video_path)\n",
    "        return scenario_id, camera_id\n",
    "\n",
    "    scenario_id, camera_id = get_ids(video_file)\n",
    "    # Use ffmpeg to extract frames from the video file\n",
    "    command = [\n",
    "        \"ffmpeg\",\n",
    "        *(\"-ss\", \"00:00:00\"),\n",
    "        *(\"-i\", video_file),\n",
    "        # *(\"-r\", \"23\"),\n",
    "        *(\"-vf\", \"select=not(mod(n\\,23))\"),\n",
    "        *(\"-start_number\", \"0\"),\n",
    "        # *(\"-q\", \"2\"),\n",
    "        *(\"-f\", \"image2\"),\n",
    "        *(\"-vsync\", \"vfr\"),\n",
    "        # *(\"-t\", \"2\"),\n",
    "        os.path.join(output_folder, f\"s{scenario_id}_c{camera_id}_f%04d.jpg\"),\n",
    "    ]\n",
    "    print(command)\n",
    "    subprocess.run(command)"
   ]
  },
  {
   "cell_type": "code",
   "execution_count": null,
   "metadata": {},
   "outputs": [],
   "source": [
    "def scale_filename(_filename, fps=23):\n",
    "    s_id_pattern = r\"(?<=s)\\d{2}\"\n",
    "    c_id_pattern = r\"(?<=c)\\d{2}\"\n",
    "    f_id_pattern = r\"f(\\d{4}).\"\n",
    "    scenario_id = find(s_id_pattern, _filename)\n",
    "    camera_id = find(c_id_pattern, _filename)\n",
    "    frame_id = find(f_id_pattern, _filename)\n",
    "    filename = f\"s{scenario_id}_c{camera_id}_f{int(frame_id) * fps:04d}.jpg\"\n",
    "    return filename"
   ]
  },
  {
   "cell_type": "markdown",
   "metadata": {},
   "source": [
    "## Loop"
   ]
  },
  {
   "cell_type": "code",
   "execution_count": null,
   "metadata": {},
   "outputs": [],
   "source": [
    "def get_paths(cfg, row,):\n",
    "    video_dir = row.video_dir\n",
    "    video = cfg.path / cfg.raw / (video_dir + \".avi\")\n",
    "    frames = cfg.path / cfg.out / video_dir\n",
    "    return video, frames"
   ]
  },
  {
   "cell_type": "code",
   "execution_count": null,
   "metadata": {},
   "outputs": [],
   "source": [
    "videos_df = pd.read_csv(cfg.path / cfg.csv)\n",
    "if not os.path.exists(cfg.path / cfg.val):\n",
    "    os.makedirs(cfg.path / cfg.val)\n",
    "is_link = True\n",
    "\n",
    "for row in videos_df.itertuples():\n",
    "    _video, frames = get_paths(cfg, row)\n",
    "    assert _video.exists(), \"FileExistsError\"\n",
    "\n",
    "    # Convert\n",
    "    video = _video.with_suffix(\".mp4\")\n",
    "    if not video.exists():\n",
    "        print(f\"Convert: {_video}\")\n",
    "        avi2mp4(_video)\n",
    "\n",
    "    # Extract\n",
    "    if not frames.exists():\n",
    "        os.makedirs(frames)\n",
    "        print(f\"Extract: {video}\")\n",
    "        extract_frames(video.as_posix(), frames.as_posix())\n",
    "    if not is_link:\n",
    "        continue\n",
    "\n",
    "    # Link\n",
    "    print(f\"Link: {cfg.path / cfg.val}\")\n",
    "    for _dirpath, dirnames, filenames in os.walk(frames):\n",
    "        dirpath = Path(_dirpath)\n",
    "        for _filename in sorted(filenames):\n",
    "            filename = scale_filename(_filename)\n",
    "            # os.symlink(root / dirpath / _filename, dst_path / filename)\n",
    "            os.symlink(\n",
    "                cfg.path / dirpath / _filename,\n",
    "                cfg.path / cfg.val / filename,\n",
    "            )"
   ]
  },
  {
   "cell_type": "code",
   "execution_count": null,
   "metadata": {},
   "outputs": [],
   "source": [
    "_val = cfg.path / cfg.val\n",
    "!rm -rf $_val"
   ]
  }
 ],
 "metadata": {
  "kernelspec": {
   "display_name": "base",
   "language": "python",
   "name": "python3"
  },
  "language_info": {
   "codemirror_mode": {
    "name": "ipython",
    "version": 3
   },
   "file_extension": ".py",
   "mimetype": "text/x-python",
   "name": "python",
   "nbconvert_exporter": "python",
   "pygments_lexer": "ipython3",
   "version": "3.10.13"
  }
 },
 "nbformat": 4,
 "nbformat_minor": 2
}
