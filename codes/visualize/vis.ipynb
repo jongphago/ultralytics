{
 "cells": [
  {
   "cell_type": "code",
   "execution_count": null,
   "metadata": {},
   "outputs": [],
   "source": [
    "import os\n",
    "from pathlib import Path\n",
    "import cv2\n",
    "import yaml\n",
    "import numpy as np\n",
    "from box import Box\n",
    "import matplotlib.pyplot as plt"
   ]
  },
  {
   "cell_type": "markdown",
   "metadata": {},
   "source": [
    "# Config"
   ]
  },
  {
   "cell_type": "markdown",
   "metadata": {},
   "source": [
    "## Path"
   ]
  },
  {
   "cell_type": "code",
   "execution_count": null,
   "metadata": {},
   "outputs": [],
   "source": [
    "config_path = \"ultralytics/cfg/datasets/aihub-val.yaml\"\n",
    "with open(config_path) as f:\n",
    "    cfg = Box(yaml.safe_load(f))\n",
    "    cfg[\"path\"] = Path(cfg[\"path\"])"
   ]
  },
  {
   "cell_type": "code",
   "execution_count": null,
   "metadata": {},
   "outputs": [],
   "source": [
    "image_paths = cfg.path / cfg.images\n",
    "label_paths = cfg.path / cfg.labels"
   ]
  },
  {
   "cell_type": "code",
   "execution_count": null,
   "metadata": {},
   "outputs": [],
   "source": [
    "for dirpath, dirnames, filenames in os.walk(image_paths):\n",
    "    for filename in sorted(filenames)[900:]:\n",
    "        image_path = Path(dirpath) / filename\n",
    "        _label_path = label_paths / filename\n",
    "        label_path = _label_path.with_suffix(\".txt\")\n",
    "        break"
   ]
  },
  {
   "cell_type": "markdown",
   "metadata": {},
   "source": [
    "# File"
   ]
  },
  {
   "cell_type": "markdown",
   "metadata": {},
   "source": [
    "## File"
   ]
  },
  {
   "cell_type": "code",
   "execution_count": null,
   "metadata": {},
   "outputs": [],
   "source": [
    "image_path.exists(), label_path.exists()"
   ]
  },
  {
   "cell_type": "code",
   "execution_count": null,
   "metadata": {},
   "outputs": [],
   "source": [
    "print(image_path), print(label_path)"
   ]
  },
  {
   "cell_type": "markdown",
   "metadata": {},
   "source": [
    "## Load object"
   ]
  },
  {
   "cell_type": "markdown",
   "metadata": {},
   "source": [
    "### Load image"
   ]
  },
  {
   "cell_type": "code",
   "execution_count": null,
   "metadata": {},
   "outputs": [],
   "source": [
    "img_arr = cv2.imread(str(image_path))\n",
    "ishape = img_arr.shape[1::-1]\n",
    "fig, ax = plt.subplots()\n",
    "ax.imshow(cv2.cvtColor(img_arr, cv2.COLOR_BGR2RGB))\n",
    "ax.set_title(image_path.stem)\n",
    "fig.show()"
   ]
  },
  {
   "cell_type": "markdown",
   "metadata": {},
   "source": [
    "### Load label"
   ]
  },
  {
   "cell_type": "code",
   "execution_count": null,
   "metadata": {},
   "outputs": [],
   "source": [
    "from ultralytics.utils.instance import Bboxes, Instances"
   ]
  },
  {
   "cell_type": "code",
   "execution_count": null,
   "metadata": {},
   "outputs": [],
   "source": [
    "with open(label_path) as f:\n",
    "    lines = f.readlines()\n",
    "    lines = np.array([line.split(\" \") for line in lines], dtype=float)  # ltwh\n",
    "labels, _bboxes = lines[:, 0], lines[:, 1:]"
   ]
  },
  {
   "cell_type": "markdown",
   "metadata": {},
   "source": [
    "# Preprocess"
   ]
  },
  {
   "cell_type": "code",
   "execution_count": null,
   "metadata": {},
   "outputs": [],
   "source": [
    "# Bboxes\n",
    "bboxes = Bboxes(_bboxes.copy(), format=\"xywh\")\n",
    "bboxes.convert(\"xyxy\")\n",
    "bboxes.mul(ishape * 2)"
   ]
  },
  {
   "cell_type": "code",
   "execution_count": null,
   "metadata": {},
   "outputs": [],
   "source": [
    "# Instances\n",
    "instances = Instances(_bboxes.copy(), bbox_format=\"xywh\")\n",
    "instances.convert_bbox(\"xyxy\")\n",
    "instances.denormalize(*ishape)"
   ]
  },
  {
   "cell_type": "markdown",
   "metadata": {},
   "source": [
    "# Visualize"
   ]
  },
  {
   "cell_type": "code",
   "execution_count": null,
   "metadata": {},
   "outputs": [],
   "source": [
    "from ultralytics.utils.plotting import Annotator"
   ]
  },
  {
   "cell_type": "code",
   "execution_count": null,
   "metadata": {},
   "outputs": [],
   "source": [
    "ann = Annotator(img_arr)\n",
    "for det in instances.bboxes:\n",
    "    ann.box_label(det, label=\"Person\")\n",
    "plt.imshow(cv2.cvtColor(ann.im, cv2.COLOR_BGR2RGB))\n",
    "plt.show()"
   ]
  },
  {
   "cell_type": "code",
   "execution_count": null,
   "metadata": {},
   "outputs": [],
   "source": []
  }
 ],
 "metadata": {
  "kernelspec": {
   "display_name": "base",
   "language": "python",
   "name": "python3"
  },
  "language_info": {
   "codemirror_mode": {
    "name": "ipython",
    "version": 3
   },
   "file_extension": ".py",
   "mimetype": "text/x-python",
   "name": "python",
   "nbconvert_exporter": "python",
   "pygments_lexer": "ipython3",
   "version": "3.10.13"
  }
 },
 "nbformat": 4,
 "nbformat_minor": 2
}
